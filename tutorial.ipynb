{
 "cells": [
  {
   "cell_type": "markdown",
   "metadata": {},
   "source": [
    "# 给新手的教程：10分钟做一个图像识别程序\n",
    "本教程不讲理只讲操作，力图帮助零基础的同学做出自己的图像识别程序，对于有基础或追求更高目标的同学准备了一些可调参数供你们尝试。\n",
    "\n",
    "| 等级 | 要求 | 通过本教程学到什么 |\n",
    "| - | - | - |\n",
    "| 0 | 会用手机拍视频，会操作电脑 | 傻瓜式地生成一个图像识别程序 |\n",
    "| 1 | 写过Python代码 | 代码写得更好了、学会Keras常用API |\n",
    "| 2 | 理解机器学习及神经网络基本原理 | 学会从零快速构建一个模型和调整参数的方法 |\n",
    "| 3 | 理解卷积神经网络 | 你太优秀了请出去 |\n"
   ]
  },
  {
   "cell_type": "markdown",
   "metadata": {},
   "source": [
    "# Step1 - 采集数据"
   ]
  },
  {
   "cell_type": "markdown",
   "metadata": {},
   "source": [
    "1. 用手机拍摄视频记录你想要识别的物体。每段视频中只能包含一种物体，时长10~30秒，每个物体可以拍摄多段视频。视频尽量用4:3或1：1的长宽比，分辨率**低**越好（注意是低）。\n",
    "2. 进入data/video文件夹，为每种物体新建一个文件夹，然后把相应的视频导入进去。例如我拍摄了5段关于猫的视频和3段关于狗的视频，就在data/video文件夹下新建dog、cat两个文件夹，然后把把猫的视频全部放进cat文件夹，把狗的视频全部放进dog文件夹，视频的文件名无所谓。"
   ]
  },
  {
   "cell_type": "markdown",
   "metadata": {},
   "source": [
    "# Step2 - 数据处理"
   ]
  },
  {
   "cell_type": "markdown",
   "metadata": {},
   "source": [
    "在这一步，我们需要把视频转成图片，然后按照60%、20%、20%的比例拆分成训练集(training set)、验证集(validation set)、和测试集(test set)。\n",
    "\n",
    "为了节省大家时间，我事先已经写好了相关的代码(utils.py)，大家只要按照提示进行调用即可完成这一步骤。"
   ]
  },
  {
   "cell_type": "code",
   "execution_count": 3,
   "metadata": {
    "scrolled": true
   },
   "outputs": [
    {
     "name": "stdout",
     "output_type": "stream",
     "text": [
      "data\n",
      "data/video\n",
      "共找到15种类别: ['午', '丑', '卯', '辰', '子', '巳', '写轮眼', '申', '亥', '空白动作', '酉', '戌', '取消', '寅', '未']\n",
      "正在处理data/video/午/wu.mp4\n",
      "正在处理data/video/丑/chou2.mp4\n",
      "正在处理data/video/丑/chou.mp4\n",
      "正在处理data/video/卯/mao.mp4\n",
      "正在处理data/video/辰/chen.mp4\n",
      "正在处理data/video/子/zi.mp4\n",
      "正在处理data/video/巳/si.mp4\n",
      "正在处理data/video/写轮眼/xielunyan.mp4\n",
      "正在处理data/video/申/shen.mp4\n",
      "正在处理data/video/申/shen2.mp4\n",
      "正在处理data/video/亥/hai.mp4\n",
      "正在处理data/video/空白动作/other.mp4\n",
      "正在处理data/video/酉/you.mp4\n",
      "正在处理data/video/戌/xu2.mp4\n",
      "正在处理data/video/戌/xu.mp4\n",
      "正在处理data/video/取消/cancel.mp4\n",
      "正在处理data/video/寅/yin.mp4\n",
      "正在处理data/video/未/wei2.mp4\n",
      "正在处理data/video/未/wei.mp4\n",
      "处理完成\n"
     ]
    }
   ],
   "source": [
    "import utils\n",
    "\n",
    "#################### 以下是你可以修改的部分 ####################\n",
    "fps = 5 # fps是视频的采样率，即每秒中采集多少张图片，建议设置为5~10\n",
    "# 每张图片的大小，根据你原始视频的比例进行缩放，建议不要超过300x300\n",
    "# 训练所需时间会和图像的像素数量成正比，建议设置得小一点，如160x120\n",
    "width = 160\n",
    "height = 90\n",
    "#################### 以上是你可以修改的部分 ####################\n",
    "\n",
    "utils.process_videos(fps, target_size=(width, height))"
   ]
  },
  {
   "cell_type": "markdown",
   "metadata": {},
   "source": [
    "# Step3 - 数据增强"
   ]
  },
  {
   "cell_type": "markdown",
   "metadata": {},
   "source": [
    "把一张原始图片经过拉伸、旋转、斜切、反转等操作，可以生产若干新的不同的图片，用以扩充训练集数据量，有助于提高模型的预测准确性"
   ]
  },
  {
   "cell_type": "code",
   "execution_count": 4,
   "metadata": {},
   "outputs": [
    {
     "name": "stderr",
     "output_type": "stream",
     "text": [
      "/home/zhangsheng/anaconda3/lib/python3.6/site-packages/h5py/__init__.py:36: FutureWarning: Conversion of the second argument of issubdtype from `float` to `np.floating` is deprecated. In future, it will be treated as `np.float64 == np.dtype(float).type`.\n",
      "  from ._conv import register_converters as _register_converters\n",
      "Using TensorFlow backend.\n"
     ]
    },
    {
     "name": "stdout",
     "output_type": "stream",
     "text": [
      "Found 1005 images belonging to 15 classes.\n",
      "Found 340 images belonging to 15 classes.\n",
      "Found 319 images belonging to 15 classes.\n"
     ]
    }
   ],
   "source": [
    "from keras.preprocessing.image import ImageDataGenerator\n",
    "from pathlib import Path\n",
    "\n",
    "# 设置train，val，test的目录\n",
    "base_dir = Path('data')\n",
    "train_dir = base_dir/'train'\n",
    "val_dir = base_dir/'val'\n",
    "test_dir = base_dir/'test'\n",
    "\n",
    "# 创建train和val图像生成器，它们会不断地产生出新的图片\n",
    "\n",
    "#################### 以下是你可以修改的部分 ####################\n",
    "train_datagen = ImageDataGenerator(rescale=1./255,\n",
    "                                   rotation_range=10,\n",
    "                                   width_shift_range=0.2,\n",
    "                                   height_shift_range=0.2,\n",
    "                                   shear_range=0.2,\n",
    "                                   zoom_range=0.2,\n",
    "                                   horizontal_flip=False,\n",
    "                                   vertical_flip=True,\n",
    "                                   fill_mode='nearest')\n",
    "#################### 以上是你可以修改的部分 ####################\n",
    "\n",
    "train_generator = train_datagen.flow_from_directory(train_dir, target_size=(height,width))\n",
    "val_generator = train_datagen.flow_from_directory(val_dir, target_size=(height,width))\n",
    "\n",
    "# test的时候是模拟真实环境，所以要使用原始图片，不要对图片进行任何操作\n",
    "test_datagen = ImageDataGenerator(rescale=1./255)\n",
    "test_generator = test_datagen.flow_from_directory(test_dir, target_size=(height,width))"
   ]
  },
  {
   "cell_type": "markdown",
   "metadata": {},
   "source": [
    "# Step4 - 搭建卷积神经网络"
   ]
  },
  {
   "cell_type": "markdown",
   "metadata": {},
   "source": [
    "在这一步我们要搭建神经网络的架构。\n",
    "\n",
    "图像识别的常见方法是通过卷积操作提取图片中的特征，然后将特征输入到神经网络中，最后神经网络输出结果。所以在这一阶段，我们要分别准备卷积和神经网络两个部分"
   ]
  },
  {
   "cell_type": "markdown",
   "metadata": {},
   "source": [
    "## 4.1 - 卷积部分"
   ]
  },
  {
   "cell_type": "markdown",
   "metadata": {},
   "source": [
    "### 迁移学习(transfer learning)"
   ]
  },
  {
   "cell_type": "markdown",
   "metadata": {},
   "source": [
    "对图像进行卷积操作需要耗费大量计算资源，并且训练需要巨大的数据量，一般个人是搞不定这事的。\n",
    "\n",
    "好消息是人们发现了一个有趣的现象：训练出来用于识别A物体的卷积神经网络，它的卷积部分也能够很好地被用于识别B物体。\n",
    "\n",
    "所以我们可以把人家已经训练好的NB的卷积神经网络借来用，这就是迁移学习。\n"
   ]
  },
  {
   "cell_type": "markdown",
   "metadata": {},
   "source": [
    "### 载入VGG16"
   ]
  },
  {
   "cell_type": "markdown",
   "metadata": {},
   "source": [
    "VGG16是一个非常经典的卷积神经网络，16代表有16个层，前13层是卷积层，后3层是全连阶层。我们需要使用它的前13个卷积层，并且使用这些层的权值，用来从图像中提取特征。然后把提取后的特征输入到我们自己的神经网络中进行识别。"
   ]
  },
  {
   "cell_type": "code",
   "execution_count": 5,
   "metadata": {},
   "outputs": [
    {
     "name": "stdout",
     "output_type": "stream",
     "text": [
      "per-trained model has been loaded\n"
     ]
    }
   ],
   "source": [
    "import keras as K\n",
    "\n",
    "# load pretrained model and weights\n",
    "conv_layers = K.applications.VGG16(include_top=False, input_shape=(height,width,3))\n",
    "conv_layers.trainable = False\n",
    "print('per-trained model has been loaded')"
   ]
  },
  {
   "cell_type": "markdown",
   "metadata": {},
   "source": [
    "除了VGG16以外还有很多更[先进的模型](https://keras.io/applications/)，你可以尝试更换不同的模型看看哪个效果更好。\n",
    "\n",
    "|Model|\tSize|Top-1 Accuracy|Top-5 Accuracy|Parameters|Depth|\n",
    "|-|-|-|-|-|\n",
    "|Xception|88 MB|0.790|0.945|22,910,480|126|\n",
    "|VGG16|528 MB|0.715|0.901|138,357,544|23|\n",
    "|VGG19|549 MB|0.727|0.910|143,667,240|26|\n",
    "|ResNet50|99 MB|0.759|0.929|25,636,712|168|\n",
    "|InceptionV3\t|92 MB\t|0.788\t|0.944\t|23,851,784\t|159|\n",
    "|InceptionResNetV2\t|215 MB\t|0.804\t|0.953\t|55,873,736\t|572|\n",
    "|MobileNet\t|17 MB\t|0.665\t|0.871\t|4,253,864\t|88|\n",
    "|DenseNet121\t|33 MB\t|0.745\t|0.918\t|8,062,504|\t121|\n",
    "|DenseNet169\t|57 MB\t|0.759\t|0.928\t|14,307,880\t|169|\n",
    "|DenseNet201\t|80 MB\t|0.770\t|0.933\t|20,242,984\t|201|"
   ]
  },
  {
   "cell_type": "markdown",
   "metadata": {},
   "source": [
    "## 4.2 - 神经网络部分"
   ]
  },
  {
   "cell_type": "code",
   "execution_count": 6,
   "metadata": {},
   "outputs": [
    {
     "name": "stdout",
     "output_type": "stream",
     "text": [
      "以下是神经网络的架构：\n",
      "_________________________________________________________________\n",
      "Layer (type)                 Output Shape              Param #   \n",
      "=================================================================\n",
      "vgg16 (Model)                (None, 2, 5, 512)         14714688  \n",
      "_________________________________________________________________\n",
      "flatten_1 (Flatten)          (None, 5120)              0         \n",
      "_________________________________________________________________\n",
      "dense_1 (Dense)              (None, 2048)              10487808  \n",
      "_________________________________________________________________\n",
      "dropout_1 (Dropout)          (None, 2048)              0         \n",
      "_________________________________________________________________\n",
      "dense_2 (Dense)              (None, 2048)              4196352   \n",
      "_________________________________________________________________\n",
      "dropout_2 (Dropout)          (None, 2048)              0         \n",
      "_________________________________________________________________\n",
      "dense_3 (Dense)              (None, 15)                30735     \n",
      "=================================================================\n",
      "Total params: 29,429,583\n",
      "Trainable params: 14,714,895\n",
      "Non-trainable params: 14,714,688\n",
      "_________________________________________________________________\n"
     ]
    }
   ],
   "source": [
    "model = K.models.Sequential()\n",
    "model.add(conv_layers)#载入VGG16的卷积部分\n",
    "model.add(K.layers.Flatten())#拉平成一维\n",
    "n_classes = len(utils.get_child_dir_names(base_dir/'video'))\n",
    "\n",
    "# 以下是你可以修改的部分\n",
    "model.add(K.layers.Dense(2048, activation='relu'))\n",
    "model.add(K.layers.Dropout(0.5))\n",
    "model.add(K.layers.Dense(2048, activation='relu'))\n",
    "model.add(K.layers.Dropout(0.5))\n",
    "# 以上是你可以修改的部分\n",
    "\n",
    "model.add(K.layers.Dense(n_classes, activation='softmax')) \n",
    "print('以下是神经网络的架构：')\n",
    "model.summary()"
   ]
  },
  {
   "cell_type": "markdown",
   "metadata": {},
   "source": [
    "# Step5 - 训练及验证"
   ]
  },
  {
   "cell_type": "markdown",
   "metadata": {},
   "source": [
    "可以尝试选择不同的优化器和优化器参数（[Keras文档](http://keras-cn.readthedocs.io/en/latest/other/optimizers/)），好的优化器能让训练结果尽快收敛并获得更高的准确率"
   ]
  },
  {
   "cell_type": "code",
   "execution_count": 7,
   "metadata": {},
   "outputs": [
    {
     "name": "stdout",
     "output_type": "stream",
     "text": [
      "优化器设置完毕\n"
     ]
    }
   ],
   "source": [
    "model.compile(loss='categorical_crossentropy', optimizer='adam', metrics=['acc'])\n",
    "print('优化器设置完毕')"
   ]
  },
  {
   "cell_type": "markdown",
   "metadata": {},
   "source": [
    "下面开始训练，为了节省时间只设置了迭代20次。你可以尝试不同迭代次看看它数对最终结果的影响"
   ]
  },
  {
   "cell_type": "code",
   "execution_count": 8,
   "metadata": {},
   "outputs": [
    {
     "name": "stdout",
     "output_type": "stream",
     "text": [
      "Epoch 1/250\n",
      " - 4s - loss: 3.4544 - acc: 0.1280 - val_loss: 2.2531 - val_acc: 0.3412\n",
      "Epoch 2/250\n",
      " - 2s - loss: 2.1000 - acc: 0.3139 - val_loss: 1.5877 - val_acc: 0.5029\n",
      "Epoch 3/250\n",
      " - 2s - loss: 1.5868 - acc: 0.4615 - val_loss: 1.1301 - val_acc: 0.6706\n",
      "Epoch 4/250\n",
      " - 2s - loss: 1.2995 - acc: 0.5424 - val_loss: 0.9078 - val_acc: 0.7000\n",
      "Epoch 5/250\n",
      " - 2s - loss: 1.0951 - acc: 0.6198 - val_loss: 0.6632 - val_acc: 0.7706\n",
      "Epoch 6/250\n",
      " - 2s - loss: 1.0007 - acc: 0.6441 - val_loss: 0.6619 - val_acc: 0.8206\n",
      "Epoch 7/250\n",
      " - 2s - loss: 0.9700 - acc: 0.6595 - val_loss: 0.5451 - val_acc: 0.8588\n",
      "Epoch 8/250\n",
      " - 2s - loss: 0.9131 - acc: 0.6755 - val_loss: 0.5280 - val_acc: 0.8412\n",
      "Epoch 9/250\n",
      " - 2s - loss: 0.8918 - acc: 0.6776 - val_loss: 0.5441 - val_acc: 0.8412\n",
      "Epoch 10/250\n",
      " - 2s - loss: 0.7757 - acc: 0.7197 - val_loss: 0.4417 - val_acc: 0.8824\n",
      "Epoch 11/250\n",
      " - 2s - loss: 0.7895 - acc: 0.7218 - val_loss: 0.4710 - val_acc: 0.8324\n",
      "Epoch 12/250\n",
      " - 2s - loss: 0.7518 - acc: 0.7326 - val_loss: 0.4041 - val_acc: 0.8559\n",
      "Epoch 13/250\n",
      " - 2s - loss: 0.7856 - acc: 0.7117 - val_loss: 0.4646 - val_acc: 0.8529\n",
      "Epoch 14/250\n",
      " - 2s - loss: 0.7613 - acc: 0.7228 - val_loss: 0.4857 - val_acc: 0.8471\n",
      "Epoch 15/250\n",
      " - 2s - loss: 0.7925 - acc: 0.7285 - val_loss: 0.3709 - val_acc: 0.8824\n",
      "Epoch 16/250\n",
      " - 2s - loss: 0.7181 - acc: 0.7351 - val_loss: 0.3931 - val_acc: 0.8853\n",
      "Epoch 17/250\n",
      " - 2s - loss: 0.7041 - acc: 0.7789 - val_loss: 0.2956 - val_acc: 0.9147\n",
      "Epoch 18/250\n",
      " - 2s - loss: 0.6729 - acc: 0.7686 - val_loss: 0.3073 - val_acc: 0.9176\n",
      "Epoch 19/250\n",
      " - 2s - loss: 0.6369 - acc: 0.7705 - val_loss: 0.3517 - val_acc: 0.8676\n",
      "Epoch 20/250\n",
      " - 2s - loss: 0.6293 - acc: 0.7789 - val_loss: 0.2635 - val_acc: 0.9118\n",
      "Epoch 21/250\n",
      " - 2s - loss: 0.5907 - acc: 0.7930 - val_loss: 0.2559 - val_acc: 0.9176\n",
      "Epoch 22/250\n",
      " - 2s - loss: 0.5916 - acc: 0.7891 - val_loss: 0.2747 - val_acc: 0.9176\n",
      "Epoch 23/250\n",
      " - 2s - loss: 0.5367 - acc: 0.8155 - val_loss: 0.2004 - val_acc: 0.9206\n",
      "Epoch 24/250\n",
      " - 2s - loss: 0.5534 - acc: 0.8081 - val_loss: 0.2602 - val_acc: 0.9118\n",
      "Epoch 25/250\n",
      " - 2s - loss: 0.5570 - acc: 0.7948 - val_loss: 0.2843 - val_acc: 0.9118\n",
      "Epoch 26/250\n",
      " - 2s - loss: 0.5673 - acc: 0.8018 - val_loss: 0.2256 - val_acc: 0.9412\n",
      "Epoch 27/250\n",
      " - 2s - loss: 0.5423 - acc: 0.8110 - val_loss: 0.2914 - val_acc: 0.8971\n",
      "Epoch 28/250\n",
      " - 2s - loss: 0.5206 - acc: 0.8288 - val_loss: 0.2659 - val_acc: 0.9235\n",
      "Epoch 29/250\n",
      " - 2s - loss: 0.6136 - acc: 0.7879 - val_loss: 0.2089 - val_acc: 0.9353\n",
      "Epoch 30/250\n",
      " - 2s - loss: 0.5250 - acc: 0.8174 - val_loss: 0.2210 - val_acc: 0.9265\n",
      "Epoch 31/250\n",
      " - 2s - loss: 0.5716 - acc: 0.8024 - val_loss: 0.2371 - val_acc: 0.9265\n",
      "Epoch 32/250\n",
      " - 2s - loss: 0.5239 - acc: 0.8227 - val_loss: 0.2485 - val_acc: 0.9235\n",
      "Epoch 33/250\n",
      " - 2s - loss: 0.4894 - acc: 0.8219 - val_loss: 0.1811 - val_acc: 0.9471\n",
      "Epoch 34/250\n",
      " - 2s - loss: 0.4638 - acc: 0.8454 - val_loss: 0.2254 - val_acc: 0.9206\n",
      "Epoch 35/250\n",
      " - 2s - loss: 0.5680 - acc: 0.8092 - val_loss: 0.2289 - val_acc: 0.9294\n",
      "Epoch 36/250\n",
      " - 2s - loss: 0.5021 - acc: 0.8317 - val_loss: 0.2017 - val_acc: 0.9559\n",
      "Epoch 37/250\n",
      " - 2s - loss: 0.4723 - acc: 0.8380 - val_loss: 0.1945 - val_acc: 0.9471\n",
      "Epoch 38/250\n",
      " - 2s - loss: 0.4408 - acc: 0.8448 - val_loss: 0.1404 - val_acc: 0.9559\n",
      "Epoch 39/250\n",
      " - 2s - loss: 0.4085 - acc: 0.8608 - val_loss: 0.1777 - val_acc: 0.9471\n",
      "Epoch 40/250\n",
      " - 2s - loss: 0.5072 - acc: 0.8282 - val_loss: 0.1968 - val_acc: 0.9471\n",
      "Epoch 41/250\n",
      " - 2s - loss: 0.4712 - acc: 0.8292 - val_loss: 0.1880 - val_acc: 0.9441\n",
      "Epoch 42/250\n",
      " - 2s - loss: 0.4819 - acc: 0.8462 - val_loss: 0.1965 - val_acc: 0.9353\n",
      "Epoch 43/250\n",
      " - 2s - loss: 0.5273 - acc: 0.8145 - val_loss: 0.2231 - val_acc: 0.9147\n",
      "Epoch 44/250\n",
      " - 2s - loss: 0.5007 - acc: 0.8345 - val_loss: 0.1850 - val_acc: 0.9412\n",
      "Epoch 45/250\n",
      " - 2s - loss: 0.5378 - acc: 0.8323 - val_loss: 0.2118 - val_acc: 0.9382\n",
      "Epoch 46/250\n",
      " - 2s - loss: 0.4684 - acc: 0.8356 - val_loss: 0.1841 - val_acc: 0.9500\n",
      "Epoch 47/250\n",
      " - 2s - loss: 0.4858 - acc: 0.8384 - val_loss: 0.2783 - val_acc: 0.8941\n",
      "Epoch 48/250\n",
      " - 2s - loss: 0.5274 - acc: 0.8205 - val_loss: 0.1817 - val_acc: 0.9294\n",
      "Epoch 49/250\n",
      " - 2s - loss: 0.4328 - acc: 0.8618 - val_loss: 0.2182 - val_acc: 0.9441\n",
      "Epoch 50/250\n",
      " - 2s - loss: 0.4503 - acc: 0.8520 - val_loss: 0.2775 - val_acc: 0.9059\n",
      "Epoch 51/250\n",
      " - 2s - loss: 0.4236 - acc: 0.8518 - val_loss: 0.1869 - val_acc: 0.9412\n",
      "Epoch 52/250\n",
      " - 2s - loss: 0.4366 - acc: 0.8399 - val_loss: 0.1916 - val_acc: 0.9382\n",
      "Epoch 53/250\n",
      " - 2s - loss: 0.4569 - acc: 0.8459 - val_loss: 0.1317 - val_acc: 0.9618\n",
      "Epoch 54/250\n",
      " - 2s - loss: 0.4679 - acc: 0.8345 - val_loss: 0.1994 - val_acc: 0.9382\n",
      "Epoch 55/250\n",
      " - 2s - loss: 0.4180 - acc: 0.8525 - val_loss: 0.2189 - val_acc: 0.9382\n",
      "Epoch 56/250\n",
      " - 2s - loss: 0.4653 - acc: 0.8501 - val_loss: 0.1886 - val_acc: 0.9441\n",
      "Epoch 57/250\n",
      " - 2s - loss: 0.3723 - acc: 0.8669 - val_loss: 0.1473 - val_acc: 0.9647\n",
      "Epoch 58/250\n",
      " - 2s - loss: 0.4058 - acc: 0.8700 - val_loss: 0.1438 - val_acc: 0.9559\n",
      "Epoch 59/250\n",
      " - 2s - loss: 0.3710 - acc: 0.8706 - val_loss: 0.1862 - val_acc: 0.9412\n",
      "Epoch 60/250\n",
      " - 2s - loss: 0.4081 - acc: 0.8702 - val_loss: 0.1551 - val_acc: 0.9618\n",
      "Epoch 61/250\n",
      " - 2s - loss: 0.4998 - acc: 0.8350 - val_loss: 0.1568 - val_acc: 0.9559\n",
      "Epoch 62/250\n",
      " - 2s - loss: 0.3097 - acc: 0.8892 - val_loss: 0.1512 - val_acc: 0.9647\n",
      "Epoch 63/250\n",
      " - 2s - loss: 0.4450 - acc: 0.8487 - val_loss: 0.2375 - val_acc: 0.9382\n",
      "Epoch 64/250\n",
      " - 2s - loss: 0.4271 - acc: 0.8632 - val_loss: 0.1586 - val_acc: 0.9559\n",
      "Epoch 65/250\n",
      " - 2s - loss: 0.4400 - acc: 0.8522 - val_loss: 0.1751 - val_acc: 0.9500\n",
      "Epoch 66/250\n",
      " - 2s - loss: 0.4300 - acc: 0.8561 - val_loss: 0.1484 - val_acc: 0.9500\n",
      "Epoch 67/250\n",
      " - 2s - loss: 0.4805 - acc: 0.8327 - val_loss: 0.2064 - val_acc: 0.9265\n",
      "Epoch 68/250\n",
      " - 2s - loss: 0.4194 - acc: 0.8630 - val_loss: 0.1589 - val_acc: 0.9324\n",
      "Epoch 69/250\n",
      " - 2s - loss: 0.4371 - acc: 0.8577 - val_loss: 0.1606 - val_acc: 0.9647\n",
      "Epoch 70/250\n",
      " - 2s - loss: 0.4649 - acc: 0.8498 - val_loss: 0.1475 - val_acc: 0.9618\n",
      "Epoch 71/250\n",
      " - 2s - loss: 0.4660 - acc: 0.8342 - val_loss: 0.2224 - val_acc: 0.9441\n",
      "Epoch 72/250\n",
      " - 2s - loss: 0.3394 - acc: 0.8886 - val_loss: 0.2152 - val_acc: 0.9294\n",
      "Epoch 73/250\n",
      " - 2s - loss: 0.4137 - acc: 0.8534 - val_loss: 0.1653 - val_acc: 0.9588\n",
      "Epoch 74/250\n",
      " - 2s - loss: 0.4051 - acc: 0.8704 - val_loss: 0.1560 - val_acc: 0.9529\n",
      "Epoch 75/250\n",
      " - 2s - loss: 0.4099 - acc: 0.8671 - val_loss: 0.1472 - val_acc: 0.9618\n",
      "Epoch 76/250\n",
      " - 2s - loss: 0.4141 - acc: 0.8538 - val_loss: 0.1492 - val_acc: 0.9441\n",
      "Epoch 77/250\n",
      " - 2s - loss: 0.4081 - acc: 0.8591 - val_loss: 0.1082 - val_acc: 0.9735\n",
      "Epoch 78/250\n",
      " - 2s - loss: 0.3925 - acc: 0.8667 - val_loss: 0.1145 - val_acc: 0.9735\n",
      "Epoch 79/250\n",
      " - 2s - loss: 0.4050 - acc: 0.8581 - val_loss: 0.1469 - val_acc: 0.9588\n",
      "Epoch 80/250\n",
      " - 2s - loss: 0.4331 - acc: 0.8628 - val_loss: 0.1415 - val_acc: 0.9588\n",
      "Epoch 81/250\n",
      " - 2s - loss: 0.3992 - acc: 0.8600 - val_loss: 0.1940 - val_acc: 0.9559\n",
      "Epoch 82/250\n",
      " - 2s - loss: 0.4045 - acc: 0.8546 - val_loss: 0.1920 - val_acc: 0.9382\n",
      "Epoch 83/250\n",
      " - 2s - loss: 0.4040 - acc: 0.8638 - val_loss: 0.0854 - val_acc: 0.9853\n",
      "Epoch 84/250\n",
      " - 2s - loss: 0.3969 - acc: 0.8730 - val_loss: 0.1299 - val_acc: 0.9676\n",
      "Epoch 85/250\n",
      " - 2s - loss: 0.3324 - acc: 0.8858 - val_loss: 0.1326 - val_acc: 0.9529\n",
      "Epoch 86/250\n",
      " - 2s - loss: 0.3415 - acc: 0.8862 - val_loss: 0.1381 - val_acc: 0.9559\n",
      "Epoch 87/250\n",
      " - 2s - loss: 0.4037 - acc: 0.8624 - val_loss: 0.1390 - val_acc: 0.9588\n",
      "Epoch 88/250\n",
      " - 2s - loss: 0.3747 - acc: 0.8798 - val_loss: 0.1418 - val_acc: 0.9618\n",
      "Epoch 89/250\n",
      " - 2s - loss: 0.3775 - acc: 0.8804 - val_loss: 0.1486 - val_acc: 0.9441\n",
      "Epoch 90/250\n",
      " - 2s - loss: 0.4554 - acc: 0.8554 - val_loss: 0.1366 - val_acc: 0.9676\n",
      "Epoch 91/250\n",
      " - 2s - loss: 0.4425 - acc: 0.8691 - val_loss: 0.1190 - val_acc: 0.9676\n",
      "Epoch 92/250\n",
      " - 2s - loss: 0.4478 - acc: 0.8598 - val_loss: 0.1435 - val_acc: 0.9529\n",
      "Epoch 93/250\n",
      " - 2s - loss: 0.4174 - acc: 0.8671 - val_loss: 0.1869 - val_acc: 0.9471\n",
      "Epoch 94/250\n",
      " - 2s - loss: 0.3806 - acc: 0.8652 - val_loss: 0.1515 - val_acc: 0.9471\n",
      "Epoch 95/250\n",
      " - 2s - loss: 0.4342 - acc: 0.8512 - val_loss: 0.1259 - val_acc: 0.9588\n",
      "Epoch 96/250\n",
      " - 2s - loss: 0.3491 - acc: 0.8733 - val_loss: 0.1335 - val_acc: 0.9559\n",
      "Epoch 97/250\n",
      " - 2s - loss: 0.4440 - acc: 0.8507 - val_loss: 0.1491 - val_acc: 0.9618\n"
     ]
    },
    {
     "name": "stdout",
     "output_type": "stream",
     "text": [
      "Epoch 98/250\n",
      " - 2s - loss: 0.4166 - acc: 0.8561 - val_loss: 0.1813 - val_acc: 0.9441\n",
      "Epoch 99/250\n",
      " - 2s - loss: 0.4003 - acc: 0.8691 - val_loss: 0.1818 - val_acc: 0.9324\n",
      "Epoch 100/250\n",
      " - 2s - loss: 0.4392 - acc: 0.8473 - val_loss: 0.1369 - val_acc: 0.9647\n",
      "Epoch 101/250\n",
      " - 2s - loss: 0.4445 - acc: 0.8583 - val_loss: 0.1618 - val_acc: 0.9559\n",
      "Epoch 102/250\n",
      " - 2s - loss: 0.4506 - acc: 0.8479 - val_loss: 0.1892 - val_acc: 0.9382\n",
      "Epoch 103/250\n",
      " - 2s - loss: 0.3991 - acc: 0.8683 - val_loss: 0.1141 - val_acc: 0.9706\n",
      "Epoch 104/250\n",
      " - 2s - loss: 0.3411 - acc: 0.8892 - val_loss: 0.0872 - val_acc: 0.9735\n",
      "Epoch 105/250\n",
      " - 2s - loss: 0.3461 - acc: 0.8788 - val_loss: 0.1651 - val_acc: 0.9500\n",
      "Epoch 106/250\n",
      " - 2s - loss: 0.4091 - acc: 0.8622 - val_loss: 0.1872 - val_acc: 0.9500\n",
      "Epoch 107/250\n",
      " - 2s - loss: 0.3730 - acc: 0.8755 - val_loss: 0.1119 - val_acc: 0.9647\n",
      "Epoch 108/250\n",
      " - 2s - loss: 0.3269 - acc: 0.8853 - val_loss: 0.1209 - val_acc: 0.9676\n",
      "Epoch 109/250\n",
      " - 2s - loss: 0.3342 - acc: 0.8911 - val_loss: 0.1707 - val_acc: 0.9441\n",
      "Epoch 110/250\n",
      " - 2s - loss: 0.3961 - acc: 0.8770 - val_loss: 0.1647 - val_acc: 0.9500\n",
      "Epoch 111/250\n",
      " - 2s - loss: 0.3282 - acc: 0.8933 - val_loss: 0.0872 - val_acc: 0.9765\n",
      "Epoch 112/250\n",
      " - 2s - loss: 0.3581 - acc: 0.8886 - val_loss: 0.0958 - val_acc: 0.9794\n",
      "Epoch 113/250\n",
      " - 2s - loss: 0.3755 - acc: 0.8835 - val_loss: 0.1188 - val_acc: 0.9676\n",
      "Epoch 114/250\n",
      " - 2s - loss: 0.3460 - acc: 0.8960 - val_loss: 0.1138 - val_acc: 0.9706\n",
      "Epoch 115/250\n",
      " - 2s - loss: 0.3183 - acc: 0.8980 - val_loss: 0.1389 - val_acc: 0.9618\n",
      "Epoch 116/250\n",
      " - 2s - loss: 0.3096 - acc: 0.9025 - val_loss: 0.1325 - val_acc: 0.9647\n",
      "Epoch 117/250\n",
      " - 2s - loss: 0.3297 - acc: 0.8921 - val_loss: 0.0995 - val_acc: 0.9706\n",
      "Epoch 118/250\n",
      " - 2s - loss: 0.4007 - acc: 0.8624 - val_loss: 0.1008 - val_acc: 0.9647\n",
      "Epoch 119/250\n",
      " - 2s - loss: 0.3959 - acc: 0.8741 - val_loss: 0.1539 - val_acc: 0.9588\n",
      "Epoch 120/250\n",
      " - 2s - loss: 0.2843 - acc: 0.9136 - val_loss: 0.0980 - val_acc: 0.9735\n",
      "Epoch 121/250\n",
      " - 2s - loss: 0.2805 - acc: 0.9126 - val_loss: 0.1186 - val_acc: 0.9647\n",
      "Epoch 122/250\n",
      " - 2s - loss: 0.3054 - acc: 0.8868 - val_loss: 0.1465 - val_acc: 0.9471\n",
      "Epoch 123/250\n",
      " - 2s - loss: 0.3155 - acc: 0.8985 - val_loss: 0.1340 - val_acc: 0.9529\n",
      "Epoch 124/250\n",
      " - 2s - loss: 0.2680 - acc: 0.9058 - val_loss: 0.1019 - val_acc: 0.9765\n",
      "Epoch 125/250\n",
      " - 2s - loss: 0.3086 - acc: 0.9048 - val_loss: 0.1345 - val_acc: 0.9647\n",
      "Epoch 126/250\n",
      " - 2s - loss: 0.3472 - acc: 0.8960 - val_loss: 0.0964 - val_acc: 0.9765\n",
      "Epoch 127/250\n",
      " - 2s - loss: 0.3279 - acc: 0.8878 - val_loss: 0.1078 - val_acc: 0.9735\n",
      "Epoch 128/250\n",
      " - 2s - loss: 0.2791 - acc: 0.8999 - val_loss: 0.1281 - val_acc: 0.9618\n",
      "Epoch 129/250\n",
      " - 2s - loss: 0.2873 - acc: 0.9015 - val_loss: 0.0939 - val_acc: 0.9765\n",
      "Epoch 130/250\n",
      " - 2s - loss: 0.3148 - acc: 0.8964 - val_loss: 0.1367 - val_acc: 0.9618\n",
      "Epoch 131/250\n",
      " - 2s - loss: 0.3721 - acc: 0.8804 - val_loss: 0.1033 - val_acc: 0.9765\n",
      "Epoch 132/250\n",
      " - 2s - loss: 0.3206 - acc: 0.8896 - val_loss: 0.0911 - val_acc: 0.9765\n",
      "Epoch 133/250\n",
      " - 2s - loss: 0.2994 - acc: 0.9126 - val_loss: 0.1406 - val_acc: 0.9618\n",
      "Epoch 134/250\n",
      " - 2s - loss: 0.2706 - acc: 0.9097 - val_loss: 0.0968 - val_acc: 0.9618\n",
      "Epoch 135/250\n",
      " - 2s - loss: 0.2483 - acc: 0.9126 - val_loss: 0.1242 - val_acc: 0.9618\n",
      "Epoch 136/250\n",
      " - 2s - loss: 0.2891 - acc: 0.9117 - val_loss: 0.0863 - val_acc: 0.9676\n",
      "Epoch 137/250\n",
      " - 2s - loss: 0.3574 - acc: 0.8941 - val_loss: 0.1072 - val_acc: 0.9676\n",
      "Epoch 138/250\n",
      " - 2s - loss: 0.3437 - acc: 0.8960 - val_loss: 0.1334 - val_acc: 0.9647\n",
      "Epoch 139/250\n",
      " - 2s - loss: 0.3573 - acc: 0.8835 - val_loss: 0.1414 - val_acc: 0.9471\n",
      "Epoch 140/250\n",
      " - 2s - loss: 0.3378 - acc: 0.9019 - val_loss: 0.1283 - val_acc: 0.9706\n",
      "Epoch 141/250\n",
      " - 2s - loss: 0.3781 - acc: 0.8800 - val_loss: 0.1062 - val_acc: 0.9765\n",
      "Epoch 142/250\n",
      " - 2s - loss: 0.3155 - acc: 0.8999 - val_loss: 0.1051 - val_acc: 0.9618\n",
      "Epoch 143/250\n",
      " - 2s - loss: 0.3381 - acc: 0.8980 - val_loss: 0.1418 - val_acc: 0.9559\n",
      "Epoch 144/250\n",
      " - 2s - loss: 0.2914 - acc: 0.9058 - val_loss: 0.1066 - val_acc: 0.9706\n",
      "Epoch 145/250\n",
      " - 2s - loss: 0.3082 - acc: 0.9005 - val_loss: 0.1581 - val_acc: 0.9559\n",
      "Epoch 146/250\n",
      " - 2s - loss: 0.2686 - acc: 0.9140 - val_loss: 0.1225 - val_acc: 0.9676\n",
      "Epoch 147/250\n",
      " - 2s - loss: 0.2473 - acc: 0.9156 - val_loss: 0.1285 - val_acc: 0.9647\n",
      "Epoch 148/250\n",
      " - 2s - loss: 0.3518 - acc: 0.8843 - val_loss: 0.1627 - val_acc: 0.9412\n",
      "Epoch 149/250\n",
      " - 2s - loss: 0.3361 - acc: 0.8881 - val_loss: 0.1101 - val_acc: 0.9676\n",
      "Epoch 150/250\n",
      " - 2s - loss: 0.2865 - acc: 0.9087 - val_loss: 0.0935 - val_acc: 0.9676\n",
      "Epoch 151/250\n",
      " - 2s - loss: 0.3216 - acc: 0.8960 - val_loss: 0.1658 - val_acc: 0.9500\n",
      "Epoch 152/250\n",
      " - 2s - loss: 0.3023 - acc: 0.9023 - val_loss: 0.1167 - val_acc: 0.9559\n",
      "Epoch 153/250\n",
      " - 2s - loss: 0.2638 - acc: 0.9146 - val_loss: 0.0751 - val_acc: 0.9794\n",
      "Epoch 154/250\n",
      " - 2s - loss: 0.3303 - acc: 0.9009 - val_loss: 0.1205 - val_acc: 0.9706\n",
      "Epoch 155/250\n",
      " - 2s - loss: 0.3648 - acc: 0.8972 - val_loss: 0.1212 - val_acc: 0.9618\n",
      "Epoch 156/250\n",
      " - 2s - loss: 0.3653 - acc: 0.8960 - val_loss: 0.1130 - val_acc: 0.9706\n",
      "Epoch 157/250\n",
      " - 2s - loss: 0.2925 - acc: 0.8989 - val_loss: 0.1021 - val_acc: 0.9794\n",
      "Epoch 158/250\n",
      " - 2s - loss: 0.2846 - acc: 0.9101 - val_loss: 0.0752 - val_acc: 0.9735\n",
      "Epoch 159/250\n",
      " - 2s - loss: 0.2630 - acc: 0.9054 - val_loss: 0.1149 - val_acc: 0.9529\n",
      "Epoch 160/250\n",
      " - 2s - loss: 0.2674 - acc: 0.9054 - val_loss: 0.1143 - val_acc: 0.9735\n",
      "Epoch 161/250\n",
      " - 2s - loss: 0.3326 - acc: 0.8980 - val_loss: 0.1547 - val_acc: 0.9500\n",
      "Epoch 162/250\n",
      " - 2s - loss: 0.3543 - acc: 0.8956 - val_loss: 0.0773 - val_acc: 0.9882\n",
      "Epoch 163/250\n",
      " - 2s - loss: 0.4004 - acc: 0.8811 - val_loss: 0.1372 - val_acc: 0.9588\n",
      "Epoch 164/250\n",
      " - 2s - loss: 0.3143 - acc: 0.9003 - val_loss: 0.1206 - val_acc: 0.9676\n",
      "Epoch 165/250\n",
      " - 2s - loss: 0.2905 - acc: 0.9054 - val_loss: 0.1180 - val_acc: 0.9706\n",
      "Epoch 166/250\n",
      " - 2s - loss: 0.2777 - acc: 0.9083 - val_loss: 0.1609 - val_acc: 0.9412\n",
      "Epoch 167/250\n",
      " - 2s - loss: 0.3842 - acc: 0.8819 - val_loss: 0.1073 - val_acc: 0.9706\n",
      "Epoch 168/250\n",
      " - 2s - loss: 0.2594 - acc: 0.9108 - val_loss: 0.0827 - val_acc: 0.9794\n",
      "Epoch 169/250\n",
      " - 2s - loss: 0.2778 - acc: 0.9060 - val_loss: 0.1110 - val_acc: 0.9765\n",
      "Epoch 170/250\n",
      " - 2s - loss: 0.3286 - acc: 0.8911 - val_loss: 0.0976 - val_acc: 0.9735\n",
      "Epoch 171/250\n",
      " - 2s - loss: 0.3116 - acc: 0.9069 - val_loss: 0.1241 - val_acc: 0.9588\n",
      "Epoch 172/250\n",
      " - 2s - loss: 0.2309 - acc: 0.9117 - val_loss: 0.0592 - val_acc: 0.9912\n",
      "Epoch 173/250\n",
      " - 2s - loss: 0.2987 - acc: 0.9048 - val_loss: 0.1014 - val_acc: 0.9735\n",
      "Epoch 174/250\n",
      " - 2s - loss: 0.2616 - acc: 0.9111 - val_loss: 0.0980 - val_acc: 0.9765\n",
      "Epoch 175/250\n",
      " - 2s - loss: 0.3028 - acc: 0.9083 - val_loss: 0.1013 - val_acc: 0.9735\n",
      "Epoch 176/250\n",
      " - 2s - loss: 0.3585 - acc: 0.8888 - val_loss: 0.1106 - val_acc: 0.9618\n",
      "Epoch 177/250\n",
      " - 2s - loss: 0.3767 - acc: 0.8872 - val_loss: 0.1235 - val_acc: 0.9618\n",
      "Epoch 178/250\n",
      " - 2s - loss: 0.2956 - acc: 0.9101 - val_loss: 0.1235 - val_acc: 0.9588\n",
      "Epoch 179/250\n",
      " - 2s - loss: 0.2741 - acc: 0.9199 - val_loss: 0.0770 - val_acc: 0.9912\n",
      "Epoch 180/250\n",
      " - 2s - loss: 0.2552 - acc: 0.9204 - val_loss: 0.0984 - val_acc: 0.9735\n",
      "Epoch 181/250\n",
      " - 2s - loss: 0.2387 - acc: 0.9277 - val_loss: 0.0922 - val_acc: 0.9647\n",
      "Epoch 182/250\n",
      " - 2s - loss: 0.2820 - acc: 0.8980 - val_loss: 0.0924 - val_acc: 0.9676\n",
      "Epoch 183/250\n",
      " - 2s - loss: 0.3333 - acc: 0.9023 - val_loss: 0.1497 - val_acc: 0.9647\n",
      "Epoch 184/250\n",
      " - 2s - loss: 0.3086 - acc: 0.9122 - val_loss: 0.0805 - val_acc: 0.9735\n",
      "Epoch 185/250\n",
      " - 2s - loss: 0.2504 - acc: 0.9146 - val_loss: 0.0844 - val_acc: 0.9676\n",
      "Epoch 186/250\n",
      " - 2s - loss: 0.2882 - acc: 0.9132 - val_loss: 0.1186 - val_acc: 0.9618\n",
      "Epoch 187/250\n",
      " - 2s - loss: 0.2872 - acc: 0.9097 - val_loss: 0.1193 - val_acc: 0.9647\n",
      "Epoch 188/250\n",
      " - 2s - loss: 0.3903 - acc: 0.8941 - val_loss: 0.1148 - val_acc: 0.9676\n",
      "Epoch 189/250\n",
      " - 2s - loss: 0.3145 - acc: 0.8985 - val_loss: 0.0852 - val_acc: 0.9765\n",
      "Epoch 190/250\n",
      " - 2s - loss: 0.3144 - acc: 0.8974 - val_loss: 0.0966 - val_acc: 0.9824\n",
      "Epoch 191/250\n",
      " - 2s - loss: 0.3403 - acc: 0.8780 - val_loss: 0.0953 - val_acc: 0.9824\n",
      "Epoch 192/250\n",
      " - 2s - loss: 0.3145 - acc: 0.9058 - val_loss: 0.1003 - val_acc: 0.9706\n",
      "Epoch 193/250\n",
      " - 2s - loss: 0.3864 - acc: 0.8862 - val_loss: 0.0909 - val_acc: 0.9794\n"
     ]
    },
    {
     "name": "stdout",
     "output_type": "stream",
     "text": [
      "Epoch 194/250\n",
      " - 2s - loss: 0.2886 - acc: 0.9058 - val_loss: 0.0963 - val_acc: 0.9794\n",
      "Epoch 195/250\n",
      " - 2s - loss: 0.3199 - acc: 0.8980 - val_loss: 0.0962 - val_acc: 0.9706\n",
      "Epoch 196/250\n",
      " - 2s - loss: 0.2836 - acc: 0.9111 - val_loss: 0.1088 - val_acc: 0.9824\n",
      "Epoch 197/250\n",
      " - 2s - loss: 0.2628 - acc: 0.9199 - val_loss: 0.0906 - val_acc: 0.9676\n",
      "Epoch 198/250\n",
      " - 2s - loss: 0.2655 - acc: 0.9152 - val_loss: 0.0911 - val_acc: 0.9706\n",
      "Epoch 199/250\n",
      " - 2s - loss: 0.3036 - acc: 0.9156 - val_loss: 0.0908 - val_acc: 0.9794\n",
      "Epoch 200/250\n",
      " - 2s - loss: 0.2345 - acc: 0.9228 - val_loss: 0.1048 - val_acc: 0.9735\n",
      "Epoch 201/250\n",
      " - 2s - loss: 0.2755 - acc: 0.9132 - val_loss: 0.1088 - val_acc: 0.9647\n",
      "Epoch 202/250\n",
      " - 2s - loss: 0.2643 - acc: 0.9136 - val_loss: 0.1186 - val_acc: 0.9735\n",
      "Epoch 203/250\n",
      " - 2s - loss: 0.2620 - acc: 0.9248 - val_loss: 0.1123 - val_acc: 0.9706\n",
      "Epoch 204/250\n",
      " - 2s - loss: 0.3557 - acc: 0.9082 - val_loss: 0.1090 - val_acc: 0.9735\n",
      "Epoch 205/250\n",
      " - 2s - loss: 0.3146 - acc: 0.9058 - val_loss: 0.1130 - val_acc: 0.9618\n",
      "Epoch 206/250\n",
      " - 2s - loss: 0.3442 - acc: 0.9005 - val_loss: 0.1338 - val_acc: 0.9647\n",
      "Epoch 207/250\n",
      " - 2s - loss: 0.2549 - acc: 0.9156 - val_loss: 0.0754 - val_acc: 0.9824\n",
      "Epoch 208/250\n",
      " - 2s - loss: 0.2417 - acc: 0.9220 - val_loss: 0.0875 - val_acc: 0.9794\n",
      "Epoch 209/250\n",
      " - 2s - loss: 0.3298 - acc: 0.9025 - val_loss: 0.1436 - val_acc: 0.9647\n",
      "Epoch 210/250\n",
      " - 2s - loss: 0.2702 - acc: 0.9083 - val_loss: 0.1069 - val_acc: 0.9706\n",
      "Epoch 211/250\n",
      " - 2s - loss: 0.2735 - acc: 0.9175 - val_loss: 0.1003 - val_acc: 0.9794\n",
      "Epoch 212/250\n",
      " - 2s - loss: 0.3267 - acc: 0.9103 - val_loss: 0.1461 - val_acc: 0.9529\n",
      "Epoch 213/250\n",
      " - 2s - loss: 0.3719 - acc: 0.8931 - val_loss: 0.0757 - val_acc: 0.9912\n",
      "Epoch 214/250\n",
      " - 2s - loss: 0.3239 - acc: 0.8876 - val_loss: 0.1054 - val_acc: 0.9676\n",
      "Epoch 215/250\n",
      " - 2s - loss: 0.3146 - acc: 0.8999 - val_loss: 0.0915 - val_acc: 0.9765\n",
      "Epoch 216/250\n",
      " - 2s - loss: 0.2408 - acc: 0.9263 - val_loss: 0.0813 - val_acc: 0.9794\n",
      "Epoch 217/250\n",
      " - 2s - loss: 0.3127 - acc: 0.9087 - val_loss: 0.1037 - val_acc: 0.9706\n",
      "Epoch 218/250\n",
      " - 2s - loss: 0.3552 - acc: 0.8927 - val_loss: 0.1347 - val_acc: 0.9588\n",
      "Epoch 219/250\n",
      " - 2s - loss: 0.3437 - acc: 0.9038 - val_loss: 0.0665 - val_acc: 0.9794\n",
      "Epoch 220/250\n",
      " - 2s - loss: 0.3209 - acc: 0.8950 - val_loss: 0.0905 - val_acc: 0.9647\n",
      "Epoch 221/250\n",
      " - 2s - loss: 0.3329 - acc: 0.9023 - val_loss: 0.0690 - val_acc: 0.9824\n",
      "Epoch 222/250\n",
      " - 2s - loss: 0.2879 - acc: 0.8995 - val_loss: 0.1121 - val_acc: 0.9618\n",
      "Epoch 223/250\n",
      " - 2s - loss: 0.3475 - acc: 0.8874 - val_loss: 0.1400 - val_acc: 0.9647\n",
      "Epoch 224/250\n",
      " - 2s - loss: 0.3084 - acc: 0.9073 - val_loss: 0.1154 - val_acc: 0.9735\n",
      "Epoch 225/250\n",
      " - 2s - loss: 0.2937 - acc: 0.9048 - val_loss: 0.1183 - val_acc: 0.9706\n",
      "Epoch 226/250\n",
      " - 2s - loss: 0.3324 - acc: 0.9130 - val_loss: 0.0745 - val_acc: 0.9765\n",
      "Epoch 227/250\n",
      " - 2s - loss: 0.2916 - acc: 0.9189 - val_loss: 0.1268 - val_acc: 0.9588\n",
      "Epoch 228/250\n",
      " - 2s - loss: 0.2673 - acc: 0.9103 - val_loss: 0.1249 - val_acc: 0.9588\n",
      "Epoch 229/250\n",
      " - 2s - loss: 0.2258 - acc: 0.9244 - val_loss: 0.0884 - val_acc: 0.9765\n",
      "Epoch 230/250\n",
      " - 2s - loss: 0.2826 - acc: 0.9073 - val_loss: 0.1420 - val_acc: 0.9647\n",
      "Epoch 231/250\n",
      " - 2s - loss: 0.2879 - acc: 0.9068 - val_loss: 0.1000 - val_acc: 0.9706\n",
      "Epoch 232/250\n",
      " - 2s - loss: 0.3123 - acc: 0.9136 - val_loss: 0.1137 - val_acc: 0.9676\n",
      "Epoch 233/250\n",
      " - 2s - loss: 0.2443 - acc: 0.9195 - val_loss: 0.1125 - val_acc: 0.9735\n",
      "Epoch 234/250\n",
      " - 2s - loss: 0.2975 - acc: 0.9138 - val_loss: 0.1207 - val_acc: 0.9676\n",
      "Epoch 235/250\n",
      " - 2s - loss: 0.3422 - acc: 0.8913 - val_loss: 0.1252 - val_acc: 0.9618\n",
      "Epoch 236/250\n",
      " - 2s - loss: 0.3366 - acc: 0.9040 - val_loss: 0.1054 - val_acc: 0.9676\n",
      "Epoch 237/250\n",
      " - 2s - loss: 0.2989 - acc: 0.8937 - val_loss: 0.0843 - val_acc: 0.9765\n",
      "Epoch 238/250\n",
      " - 2s - loss: 0.3119 - acc: 0.8991 - val_loss: 0.1155 - val_acc: 0.9735\n",
      "Epoch 239/250\n",
      " - 2s - loss: 0.2354 - acc: 0.9175 - val_loss: 0.1153 - val_acc: 0.9676\n",
      "Epoch 240/250\n",
      " - 2s - loss: 0.2962 - acc: 0.9044 - val_loss: 0.0972 - val_acc: 0.9735\n",
      "Epoch 241/250\n",
      " - 2s - loss: 0.1976 - acc: 0.9283 - val_loss: 0.0930 - val_acc: 0.9765\n",
      "Epoch 242/250\n",
      " - 2s - loss: 0.2861 - acc: 0.9136 - val_loss: 0.1138 - val_acc: 0.9529\n",
      "Epoch 243/250\n",
      " - 2s - loss: 0.3084 - acc: 0.9077 - val_loss: 0.1261 - val_acc: 0.9676\n",
      "Epoch 244/250\n",
      " - 2s - loss: 0.2442 - acc: 0.9189 - val_loss: 0.0890 - val_acc: 0.9706\n",
      "Epoch 245/250\n",
      " - 2s - loss: 0.2603 - acc: 0.9189 - val_loss: 0.1390 - val_acc: 0.9676\n",
      "Epoch 246/250\n",
      " - 2s - loss: 0.2505 - acc: 0.9160 - val_loss: 0.0804 - val_acc: 0.9794\n",
      "Epoch 247/250\n",
      " - 2s - loss: 0.2607 - acc: 0.9209 - val_loss: 0.1250 - val_acc: 0.9647\n",
      "Epoch 248/250\n",
      " - 2s - loss: 0.2698 - acc: 0.9199 - val_loss: 0.0939 - val_acc: 0.9676\n",
      "Epoch 249/250\n",
      " - 2s - loss: 0.2546 - acc: 0.9238 - val_loss: 0.1162 - val_acc: 0.9647\n",
      "Epoch 250/250\n",
      " - 2s - loss: 0.2831 - acc: 0.9042 - val_loss: 0.1191 - val_acc: 0.9647\n",
      "训练完毕\n"
     ]
    }
   ],
   "source": [
    "n_epochs = 250\n",
    "n_train_samples = utils.count_jpgs(train_dir)#训练集图片总数\n",
    "n_val_samples = utils.count_jpgs(val_dir)#val集图片总数\n",
    "batch_size = 32\n",
    "history = model.fit_generator(train_generator, steps_per_epoch=n_train_samples/batch_size, epochs=n_epochs, \n",
    "                              validation_data=val_generator, validation_steps=n_val_samples/batch_size, verbose=2)\n",
    "print('训练完毕')"
   ]
  },
  {
   "cell_type": "markdown",
   "metadata": {},
   "source": [
    "## 画图看一下训练效果"
   ]
  },
  {
   "cell_type": "code",
   "execution_count": 10,
   "metadata": {},
   "outputs": [
    {
     "data": {
      "image/png": "[encoded data removed]",
      "text/plain": [
       "<matplotlib.figure.Figure at 0x7fb048642550>"
      ]
     },
     "metadata": {},
     "output_type": "display_data"
    }
   ],
   "source": [
    "from matplotlib import pyplot as plt\n",
    "\n",
    "fig = plt.figure(figsize=(8,4), dpi=100)\n",
    "plt.plot(range(n_epochs), history.history['acc'], 'c', label='Training Accuracy', aa=True)\n",
    "plt.plot(range(n_epochs), history.history['val_acc'], 'darkorange', label='Validation Accuracy', aa=True)\n",
    "plt.legend()\n",
    "plt.xlabel('epoch')\n",
    "plt.ylabel('Accuracy')\n",
    "plt.ylim(0,1)\n",
    "plt.grid()\n",
    "plt.show()"
   ]
  },
  {
   "cell_type": "markdown",
   "metadata": {},
   "source": [
    "## 怎么看训练的结果好不好\n",
    "### 好的情况\n",
    "总体上来看，train和val的正确率都随着迭代次数增加而上升，并且最后收敛于某一个比较高的数值。\n",
    "### 两种不好的情况\n",
    "1. 欠拟合（under-fitting）\n",
    "\n",
    "train和val的正确率都比较低。\n",
    "造成这种情况的原因有很多，常见的有：数据量不够大、神经网络设计得不合理、优化器选择不合理、迭代次数不够\n",
    "2. 过拟合（over-fitting）\n",
    "\n",
    "train的正确率很高，但是val正确率很低。\n",
    "这种情况代表模型的泛化能力不好，它完全适应了训练集的数据（可以接近100%的正确率），但是不适用于验证集的数据。\n",
    "解决方法是使用在Dense层后追加[Dropout层](https://keras-cn.readthedocs.io/en/latest/layers/core_layer/#dropout)或是在Densse层的选项中设置[regularizer](http://keras-cn.readthedocs.io/en/latest/other/regularizers/)。\n"
   ]
  },
  {
   "cell_type": "markdown",
   "metadata": {},
   "source": [
    "# Step6 - 测试"
   ]
  },
  {
   "cell_type": "markdown",
   "metadata": {},
   "source": [
    "如果上面的验证结果还不错，那恭喜你就快要成功了！\n",
    "最后我们用测试集的数据来测试一下"
   ]
  },
  {
   "cell_type": "code",
   "execution_count": 11,
   "metadata": {},
   "outputs": [
    {
     "name": "stdout",
     "output_type": "stream",
     "text": [
      "测试正确率：0.9905956112852664\n"
     ]
    }
   ],
   "source": [
    "n_test_samples = utils.count_jpgs(test_dir)\n",
    "_, test_acc = model.evaluate_generator(test_generator, steps=n_test_samples/batch_size)\n",
    "print('测试正确率：{}'.format(test_acc))"
   ]
  },
  {
   "cell_type": "markdown",
   "metadata": {},
   "source": [
    "# Step7 - 拍张照，让程序来判断它是什么"
   ]
  },
  {
   "cell_type": "markdown",
   "metadata": {},
   "source": [
    "拍一张照，上传到 data/x 文件夹中，默认文件名是 myimage.jpg。如果你保存了其它文件名或是其它文件夹，需要修改下方代码中的路径。"
   ]
  },
  {
   "cell_type": "markdown",
   "metadata": {},
   "source": [
    "## 先显示一下图片看看对不对"
   ]
  },
  {
   "cell_type": "code",
   "execution_count": 13,
   "metadata": {},
   "outputs": [],
   "source": [
    "from PIL import Image\n",
    "\n",
    "path = 'data/test/辰/chen_0.jpg'\n",
    "img = Image.open(path)\n",
    "img.show()"
   ]
  },
  {
   "cell_type": "markdown",
   "metadata": {},
   "source": [
    "## 让程序来预测试试吧"
   ]
  },
  {
   "cell_type": "code",
   "execution_count": 15,
   "metadata": {},
   "outputs": [
    {
     "name": "stdout",
     "output_type": "stream",
     "text": [
      "这张图片有 0.00% 的可能性是 丑\n",
      "这张图片有 0.00% 的可能性是 亥\n",
      "这张图片有 0.00% 的可能性是 写轮眼\n",
      "这张图片有 0.00% 的可能性是 午\n",
      "这张图片有 0.00% 的可能性是 卯\n",
      "这张图片有 0.00% 的可能性是 取消\n",
      "这张图片有 0.00% 的可能性是 子\n",
      "这张图片有 0.00% 的可能性是 寅\n",
      "这张图片有 0.00% 的可能性是 巳\n",
      "这张图片有 0.00% 的可能性是 戌\n",
      "这张图片有 0.00% 的可能性是 未\n",
      "这张图片有 0.00% 的可能性是 申\n",
      "这张图片有 0.00% 的可能性是 空白动作\n",
      "这张图片有 100.00% 的可能性是 辰\n",
      "这张图片有 0.00% 的可能性是 酉\n"
     ]
    }
   ],
   "source": [
    "x = utils.preprocess(img, (width, height))\n",
    "y = model.predict(x)[0]\n",
    "class_indices = train_generator.class_indices#获得文件夹名的和类的序号对应的字典\n",
    "class_indices_reverse={v:k for k,v in class_indices.items()}#反转字典的索引和内容值\n",
    "\n",
    "utils.show_pred(y,class_indices_reverse)\n"
   ]
  },
  {
   "cell_type": "markdown",
   "metadata": {},
   "source": [
    "# Optional - 用自己电脑的摄像头做实时预测"
   ]
  },
  {
   "cell_type": "markdown",
   "metadata": {},
   "source": [
    "把model文件夹下载到自己电脑上，然后运行其中的predict.py即可。运行需要Python3.6和如下库：\n",
    "\n",
    "| library | version |\n",
    "| - | - |\n",
    "| tensorrflow| 1.4.0 |\n",
    "| keras | 2.1.3 |\n",
    "| numpy | - |\n",
    "| PIL | - |\n",
    "| opencv | - |"
   ]
  },
  {
   "cell_type": "code",
   "execution_count": 16,
   "metadata": {},
   "outputs": [
    {
     "name": "stdout",
     "output_type": "stream",
     "text": [
      "保存成功\n"
     ]
    }
   ],
   "source": [
    "model.save('model/NARUTO.h5')\n",
    "utils.save_confg(class_indices_reverse,input_size=(160,90),fp='model/config.json')\n",
    "print('保存成功')"
   ]
  }
 ],
 "metadata": {
  "kernelspec": {
   "display_name": "Python 3",
   "language": "python",
   "name": "python3"
  },
  "language_info": {
   "codemirror_mode": {
    "name": "ipython",
    "version": 3
   },
   "file_extension": ".py",
   "mimetype": "text/x-python",
   "name": "python",
   "nbconvert_exporter": "python",
   "pygments_lexer": "ipython3",
   "version": "3.6.4"
  }
 },
 "nbformat": 4,
 "nbformat_minor": 2
}
